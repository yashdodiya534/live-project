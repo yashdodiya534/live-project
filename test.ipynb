{
 "cells": [
  {
   "cell_type": "code",
   "execution_count": 1,
   "metadata": {},
   "outputs": [],
   "source": [
    "#import the snowflake connector library as sf\n",
    "import snowflake.connector as sf"
   ]
  },
  {
   "cell_type": "code",
   "execution_count": 2,
   "metadata": {},
   "outputs": [
    {
     "name": "stdout",
     "output_type": "stream",
     "text": [
      "1. Creating Snowflake Connection/Context Object\n",
      "2. Connetion established successfully \n",
      "2.1 Object =>  <class 'snowflake.connector.connection.SnowflakeConnection'>\n",
      "2.2 Account =>  zc29401\n",
      "2.3 Database =>  TEST\n",
      "2.4 Schema =>  PUBLIC\n",
      "2.5 Warehouse =>  COMPUTE_WH\n",
      "2.6 Application =>  PythonConnector\n",
      "3. From context, getting the cursor object\n",
      "3.1 Object =>  <class 'snowflake.connector.cursor.SnowflakeCursor'>\n",
      "4. Ready to execute a query on cursor object\n",
      "Current DB =>  TEST\n",
      "Current Schema =>  PUBLIC\n",
      "Current Warehouse =>  COMPUTE_WH\n",
      "Current Version =>  7.12.5\n",
      "Current Account =>  ZC29401\n",
      "Current Client =>  PythonConnector 3.0.3\n"
     ]
    }
   ],
   "source": [
    "\n",
    "\n",
    "# Creating the context object\n",
    "# -----------------------------------\n",
    "\n",
    "print(\"1. Creating Snowflake Connection/Context Object\")\n",
    "\n",
    "# it is simple authentication - using user-id & pwd\n",
    "sf_conn_obj = sf.connect(\n",
    "    user = 'TOMSTARK331',\n",
    "    password = 'GFG607YNmMj!',\n",
    "    account = 'zc29401.ap-southeast-1',\n",
    "    warehouse = 'COMPUTE_WH',\n",
    "    database = 'test',\n",
    "    schema = 'PUBLIC'\n",
    ")\n",
    "\n",
    "print(\"2. Connetion established successfully \")\n",
    "print(\"2.1 Object => \" , type(sf_conn_obj))\n",
    "print(\"2.2 Account => \" , sf_conn_obj.account)\n",
    "print(\"2.3 Database => \" , sf_conn_obj.database)\n",
    "print(\"2.4 Schema => \" , sf_conn_obj.schema)\n",
    "print(\"2.5 Warehouse => \" , sf_conn_obj.warehouse)\n",
    "print(\"2.6 Application => \" , sf_conn_obj.application)\n",
    "\n",
    "# -------------------------------------------------\n",
    "print(\"3. From context, getting the cursor object\")\n",
    "sf_cursor_obj = sf_conn_obj.cursor()\n",
    "\n",
    "print(\"3.1 Object => \" , type(sf_cursor_obj))\n",
    "\n",
    "# -------------------------------------------------\n",
    "print(\"4. Ready to execute a query on cursor object\")\n",
    "try:\n",
    "    # execute any kind of query via execute method\n",
    "    sf_cursor_obj.execute(\"select \\\n",
    "    current_database(), current_schema(), current_warehouse(), \\\n",
    "    current_version(), current_account(), current_client()\")\n",
    "\n",
    "    # Same cursor object help to fetch data\n",
    "    one_row = sf_cursor_obj.fetchone()\n",
    "    print(\"Current DB => \",one_row[0])\n",
    "    print(\"Current Schema => \",one_row[1])\n",
    "    print(\"Current Warehouse => \",one_row[2])\n",
    "    print(\"Current Version => \",one_row[3])\n",
    "    print(\"Current Account => \",one_row[4])\n",
    "    print(\"Current Client => \",one_row[5])\n",
    "finally:\n",
    "    #closing the connection object\n",
    "    sf_cursor_obj.close()\n",
    "    \n",
    "# closing the context object\n",
    "sf_conn_obj.close()"
   ]
  },
  {
   "cell_type": "code",
   "execution_count": null,
   "metadata": {},
   "outputs": [],
   "source": []
  }
 ],
 "metadata": {
  "kernelspec": {
   "display_name": "yash",
   "language": "python",
   "name": "python3"
  },
  "language_info": {
   "codemirror_mode": {
    "name": "ipython",
    "version": 3
   },
   "file_extension": ".py",
   "mimetype": "text/x-python",
   "name": "python",
   "nbconvert_exporter": "python",
   "pygments_lexer": "ipython3",
   "version": "3.10.9"
  },
  "orig_nbformat": 4
 },
 "nbformat": 4,
 "nbformat_minor": 2
}
