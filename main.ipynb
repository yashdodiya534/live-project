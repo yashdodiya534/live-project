{
 "cells": [
  {
   "cell_type": "markdown",
   "metadata": {},
   "source": [
    "# Import CSV files to a postgres database"
   ]
  },
  {
   "cell_type": "code",
   "execution_count": 1,
   "metadata": {},
   "outputs": [],
   "source": [
    "#import libraries\n",
    "#conda install psycopg2\n",
    "#pip install psycopg2\n",
    "\n",
    "import os\n",
    "import numpy as np\n",
    "import pandas as pd\n",
    "import psycopg2"
   ]
  },
  {
   "cell_type": "code",
   "execution_count": null,
   "metadata": {},
   "outputs": [],
   "source": []
  },
  {
   "cell_type": "code",
   "execution_count": 2,
   "metadata": {},
   "outputs": [
    {
     "name": "stdout",
     "output_type": "stream",
     "text": [
      "domestic_visitors_2016.csv\n",
      "domestic_visitors_2017.csv\n",
      "domestic_visitors_2018.csv\n",
      "domestic_visitors_2019.csv\n",
      "foreign_visitors_2016.csv\n",
      "foreign_visitors_2017.csv\n",
      "foreign_visitors_2018.csv\n",
      "foreign_visitors_2019.csv\n",
      "opened database successfully\n",
      "domestic_visitors_2016 was created successfully\n",
      "file opened in memory\n",
      "file copied to db\n",
      "table domestic_visitors_2016 imported to db completed\n",
      "opened database successfully\n",
      "domestic_visitors_2017 was created successfully\n",
      "file opened in memory\n",
      "file copied to db\n",
      "table domestic_visitors_2017 imported to db completed\n",
      "opened database successfully\n",
      "domestic_visitors_2018 was created successfully\n",
      "file opened in memory\n",
      "file copied to db\n",
      "table domestic_visitors_2018 imported to db completed\n",
      "opened database successfully\n",
      "domestic_visitors_2019 was created successfully\n",
      "file opened in memory\n",
      "file copied to db\n",
      "table domestic_visitors_2019 imported to db completed\n",
      "opened database successfully\n",
      "foreign_visitors_2016 was created successfully\n",
      "file opened in memory\n",
      "file copied to db\n",
      "table foreign_visitors_2016 imported to db completed\n",
      "opened database successfully\n",
      "foreign_visitors_2017 was created successfully\n",
      "file opened in memory\n",
      "file copied to db\n",
      "table foreign_visitors_2017 imported to db completed\n",
      "opened database successfully\n",
      "foreign_visitors_2018 was created successfully\n",
      "file opened in memory\n",
      "file copied to db\n",
      "table foreign_visitors_2018 imported to db completed\n",
      "opened database successfully\n",
      "foreign_visitors_2019 was created successfully\n",
      "file opened in memory\n",
      "file copied to db\n",
      "table foreign_visitors_2019 imported to db completed\n"
     ]
    }
   ],
   "source": [
    "#main \n",
    "\n",
    "from csv_import_functions import *\n",
    "\n",
    "#settings\n",
    "dataset_dir = 'datasets'\n",
    "\n",
    "#db settings\n",
    "host = 'localhost'\n",
    "dbname = 'travel'\n",
    "user = 'postgres'\n",
    "password = 'yash'\n",
    "\n",
    "#configure environment and create main df\n",
    "csv_files = csv_files()\n",
    "configure_dataset_directory(csv_files, dataset_dir)\n",
    "df = create_df(dataset_dir, csv_files)\n",
    "\n",
    "for k in csv_files:\n",
    "\n",
    "    #call dataframe\n",
    "    dataframe = df[k]\n",
    "\n",
    "    #clean table name\n",
    "    tbl_name = clean_tbl_name(k)\n",
    "    \n",
    "    #clean column names\n",
    "    col_str, dataframe.columns = clean_colname(dataframe)\n",
    "    \n",
    "    #upload data to db   \n",
    "    upload_to_db(host, \n",
    "                 dbname, \n",
    "                 user, \n",
    "                 password, \n",
    "                 tbl_name, \n",
    "                 col_str, \n",
    "                 file=k, \n",
    "                 dataframe=dataframe, \n",
    "                 dataframe_columns=dataframe.columns)"
   ]
  },
  {
   "cell_type": "code",
   "execution_count": null,
   "metadata": {},
   "outputs": [],
   "source": []
  }
 ],
 "metadata": {
  "kernelspec": {
   "display_name": "Python 3 (ipykernel)",
   "language": "python",
   "name": "python3"
  },
  "language_info": {
   "codemirror_mode": {
    "name": "ipython",
    "version": 3
   },
   "file_extension": ".py",
   "mimetype": "text/x-python",
   "name": "python",
   "nbconvert_exporter": "python",
   "pygments_lexer": "ipython3",
   "version": "3.10.9"
  }
 },
 "nbformat": 4,
 "nbformat_minor": 4
}
